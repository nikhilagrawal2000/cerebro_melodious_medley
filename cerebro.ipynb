{
  "nbformat": 4,
  "nbformat_minor": 0,
  "metadata": {
    "colab": {
      "name": "cerebro.ipynb",
      "version": "0.3.2",
      "provenance": [],
      "collapsed_sections": [],
      "include_colab_link": true
    },
    "kernelspec": {
      "name": "python3",
      "display_name": "Python 3"
    },
    "accelerator": "GPU"
  },
  "cells": [
    {
      "cell_type": "markdown",
      "metadata": {
        "id": "view-in-github",
        "colab_type": "text"
      },
      "source": [
        "<a href=\"https://colab.research.google.com/github/nikhilagrawal2000/cerebro_melodious_medley/blob/master/cerebro.ipynb\" target=\"_parent\"><img src=\"https://colab.research.google.com/assets/colab-badge.svg\" alt=\"Open In Colab\"/></a>"
      ]
    },
    {
      "metadata": {
        "id": "Z45x_deuC0jJ",
        "colab_type": "code",
        "colab": {}
      },
      "cell_type": "code",
      "source": [
        "import pandas as pd\n",
        "import numpy as np"
      ],
      "execution_count": 0,
      "outputs": []
    },
    {
      "metadata": {
        "id": "wWG4xv3XI7w7",
        "colab_type": "code",
        "outputId": "c3c76334-15e2-46e3-e034-70ccef4d27a2",
        "colab": {
          "base_uri": "https://localhost:8080/",
          "height": 158
        }
      },
      "cell_type": "code",
      "source": [
        "! git clone https://github.com/nikhilagrawal2000/cerebro_melodious_medley.git\n",
        "%cd cerebro_melodious_medley\n",
        "! ls"
      ],
      "execution_count": 25,
      "outputs": [
        {
          "output_type": "stream",
          "text": [
            "Cloning into 'cerebro_melodious_medley'...\n",
            "remote: Enumerating objects: 8, done.\u001b[K\n",
            "remote: Counting objects:  12% (1/8)   \u001b[K\rremote: Counting objects:  25% (2/8)   \u001b[K\rremote: Counting objects:  37% (3/8)   \u001b[K\rremote: Counting objects:  50% (4/8)   \u001b[K\rremote: Counting objects:  62% (5/8)   \u001b[K\rremote: Counting objects:  75% (6/8)   \u001b[K\rremote: Counting objects:  87% (7/8)   \u001b[K\rremote: Counting objects: 100% (8/8)   \u001b[K\rremote: Counting objects: 100% (8/8), done.\u001b[K\n",
            "remote: Compressing objects: 100% (7/7), done.\u001b[K\n",
            "remote: Total 8 (delta 1), reused 4 (delta 0), pack-reused 0\u001b[K\n",
            "Unpacking objects: 100% (8/8), done.\n",
            "/content/cerebro_melodious_medley/cerebro_melodious_medley\n",
            "extra_infos.json  README.md  test.csv  train.csv\n"
          ],
          "name": "stdout"
        }
      ]
    },
    {
      "metadata": {
        "id": "yWvSwdVoD0en",
        "colab_type": "code",
        "colab": {}
      },
      "cell_type": "code",
      "source": [
        "df_training = pd.read_csv(\"train.csv\")\n",
        "df_test = pd.read_csv(\"test.csv\")\n",
        "\n",
        "labels = df_training.loc[:, 'is_listened']\n",
        "ids = df_training.loc[:, 'ID']\n",
        "ts_listen_df = df_training.loc[:, 'ts_listen']\n",
        "release_data_df = df_training.loc[:, 'release_date']\n",
        "#df_training = df_training.drop(['release_date'], axis =1)\n",
        "df_training = df_training.drop(['is_listened'], axis = 1)\n",
        "df_training = df_training.drop(['ID'], axis = 1)\n",
        "df_training = df_training.drop(['ts_listen'], axis = 1)"
      ],
      "execution_count": 0,
      "outputs": []
    },
    {
      "metadata": {
        "id": "5k6_LjU7fiXN",
        "colab_type": "code",
        "colab": {}
      },
      "cell_type": "code",
      "source": [
        "ids_test = df_test.loc[:, 'ID']\n",
        "ts_listen_df_test = df_test.loc[:, 'ts_listen']\n",
        "release_data_df_test = df_test.loc[:, 'release_date']\n",
        "#df_test = df_test.drop(['release_date'], axis =1)\n",
        "df_test = df_test.drop(['ID'], axis = 1)\n",
        "df_test = df_test.drop(['ts_listen'], axis = 1)"
      ],
      "execution_count": 0,
      "outputs": []
    },
    {
      "metadata": {
        "id": "7gt-CeTaPyXt",
        "colab_type": "code",
        "colab": {}
      },
      "cell_type": "code",
      "source": [
        "X_all = df_training\n",
        "y_ = labels"
      ],
      "execution_count": 0,
      "outputs": []
    },
    {
      "metadata": {
        "id": "FM8v-190OH5L",
        "colab_type": "code",
        "colab": {}
      },
      "cell_type": "code",
      "source": [
        "for head in X_all:\n",
        "    series = X_all[head]\n",
        "    mean = series.mean()\n",
        "    maximum = series.max()\n",
        "    minimum = series.min()\n",
        "    series = (series - minimum)/(maximum - minimum)\n",
        "    X_all[head] = series\n",
        "\n",
        "for head in df_test:\n",
        "    series = df_test[head]\n",
        "    mean = series.mean()\n",
        "    maximum = series.max()\n",
        "    minimum = series.min()\n",
        "    series = (series - minimum)/(maximum - minimum)\n",
        "    df_test[head] = series"
      ],
      "execution_count": 0,
      "outputs": []
    },
    {
      "metadata": {
        "colab_type": "code",
        "outputId": "222ed505-ede6-4f90-e6c6-46081732c047",
        "id": "fjsFvLHPRa-N",
        "colab": {
          "base_uri": "https://localhost:8080/",
          "height": 52
        }
      },
      "cell_type": "code",
      "source": [
        "n_rows = X_all.shape[0]\n",
        "n_cols = X_all.shape[1]\n",
        "print(\"Total number of rows: {} \".format(n_rows))\n",
        "print(\"Total number of cols: {} \".format(n_cols))"
      ],
      "execution_count": 30,
      "outputs": [
        {
          "output_type": "stream",
          "text": [
            "Total number of rows: 632284 \n",
            "Total number of cols: 13 \n"
          ],
          "name": "stdout"
        }
      ]
    },
    {
      "metadata": {
        "id": "HCkKIIxXRgiA",
        "colab_type": "code",
        "outputId": "4869018e-0b6d-4aaa-beed-1a98bd8abbfd",
        "colab": {
          "base_uri": "https://localhost:8080/",
          "height": 52
        }
      },
      "cell_type": "code",
      "source": [
        "num_test = 120000\n",
        "num_train = n_rows - num_test\n",
        "\n",
        "from sklearn import cross_validation\n",
        "\n",
        "X_train, X_test, y_train, y_test = cross_validation.train_test_split(X_all, y_, test_size=num_test)\n",
        "print(\"Training set: {} samples\".format(X_train.shape[0]))\n",
        "print (\"Test set: {} samples\".format(X_test.shape[0]))"
      ],
      "execution_count": 31,
      "outputs": [
        {
          "output_type": "stream",
          "text": [
            "Training set: 512284 samples\n",
            "Test set: 120000 samples\n"
          ],
          "name": "stdout"
        }
      ]
    },
    {
      "metadata": {
        "id": "zyF87DMFTY2Q",
        "colab_type": "code",
        "outputId": "b3f2017a-4378-44d7-e6bf-37d8657e2c48",
        "colab": {
          "base_uri": "https://localhost:8080/",
          "height": 70
        }
      },
      "cell_type": "code",
      "source": [
        "import time\n",
        "\n",
        "def train_classifier(clf, X_train, y_train):\n",
        "    print(\"Training {}...\".format(clf.__class__.__name__))\n",
        "    start = time.time()\n",
        "    clf.fit(X_train, y_train)\n",
        "    end = time.time()\n",
        "    print (\"Done!\\nTraining time (secs): {:.3f}\".format(end - start))\n",
        "\n",
        "from sklearn import ensemble\n",
        "from sklearn import tree\n",
        "from sklearn.svm import SVC\n",
        "\n",
        "#clf = ensemble.RandomForestClassifier()\n",
        "#clf = SVC(gamma='auto')\n",
        "#clf = ensemble.AdaBoostClassifier(tree.DecisionTreeClassifier(max_depth = 5),n_estimators = 50, learning_rate = 1.0, algorithm = \"SAMME.R\")\n",
        "clf = ensemble.GradientBoostingClassifier(n_estimators = 100, learning_rate =1, max_depth =5)\n",
        "# Fit model to training data\n",
        "train_classifier(clf, X_train, y_train)\n"
      ],
      "execution_count": 45,
      "outputs": [
        {
          "output_type": "stream",
          "text": [
            "Training GradientBoostingClassifier...\n",
            "Done!\n",
            "Training time (secs): 155.210\n"
          ],
          "name": "stdout"
        }
      ]
    },
    {
      "metadata": {
        "colab_type": "code",
        "outputId": "6cf1e431-cfc1-4ccb-ffdc-b8926e2439f6",
        "id": "ojWUkpJfCiZY",
        "colab": {
          "base_uri": "https://localhost:8080/",
          "height": 87
        }
      },
      "cell_type": "code",
      "source": [
        "from sklearn.metrics import f1_score\n",
        "\n",
        "def predict_labels(clf, features, target):\n",
        "    print(\"Predicting labels using {}...\".format(clf.__class__.__name__))\n",
        "    start = time.time()\n",
        "    y_pred = clf.predict(features)\n",
        "    end = time.time()\n",
        "    print( \"Done!\\nPrediction time (secs): {:.3f}\".format(end - start))\n",
        "    return f1_score(target.values, y_pred, pos_label=1)\n",
        "\n",
        "train_f1_score = predict_labels(clf, X_train, y_train)\n",
        "print (\"F1 score for training set: {}\".format(train_f1_score))"
      ],
      "execution_count": 47,
      "outputs": [
        {
          "output_type": "stream",
          "text": [
            "Predicting labels using GradientBoostingClassifier...\n",
            "Done!\n",
            "Prediction time (secs): 1.211\n",
            "F1 score for training set: 0.8104504181447946\n"
          ],
          "name": "stdout"
        }
      ]
    },
    {
      "metadata": {
        "id": "rWrfWyfbTcqO",
        "colab_type": "code",
        "outputId": "c1df8600-890a-4086-c045-50bf1b75002f",
        "colab": {
          "base_uri": "https://localhost:8080/",
          "height": 122
        }
      },
      "cell_type": "code",
      "source": [
        "print(\"F1 score for test set: {}\".format(predict_labels(clf, X_test, y_test)))\n",
        "\n",
        "predict_leader = clf.predict(df_test)\n",
        "\n",
        "data = {'is_listened':predict_leader}\n",
        "\n",
        "print(data)\n",
        "\n",
        "predict_leader = pd.DataFrame.from_dict(data)\n",
        "\n",
        "LeaderBoardFinal = pd.concat((ids_test,predict_leader),axis =1)\n",
        "\n",
        "print(LeaderBoardFinal.shape)\n",
        "\n",
        "LeaderBoardFinal.to_csv('submission.csv')"
      ],
      "execution_count": 48,
      "outputs": [
        {
          "output_type": "stream",
          "text": [
            "Predicting labels using GradientBoostingClassifier...\n",
            "Done!\n",
            "Prediction time (secs): 0.260\n",
            "F1 score for test set: 0.8012475191380777\n",
            "{'is_listened': array([1, 1, 1, ..., 0, 1, 1])}\n",
            "(421542, 2)\n"
          ],
          "name": "stdout"
        }
      ]
    },
    {
      "metadata": {
        "colab_type": "code",
        "id": "emt3nVSXIsg3",
        "colab": {}
      },
      "cell_type": "code",
      "source": [
        "#import xgboost as xgb\n",
        "#from sklearn.metrics import accuracy_score\n",
        "\n",
        "#model = xgb.XGBClassifier()\n",
        "#model.fit(X_train, y_train)\n",
        "#y_pred = model.predict(X_test)\n",
        "#accuracy = accuracy_score(y_test, y_pred)\n",
        "#print(accuracy)\n"
      ],
      "execution_count": 0,
      "outputs": []
    }
  ]
}